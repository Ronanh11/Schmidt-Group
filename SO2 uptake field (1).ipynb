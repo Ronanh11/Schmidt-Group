{
 "cells": [
  {
   "cell_type": "code",
   "execution_count": 2,
   "metadata": {},
   "outputs": [],
   "source": [
    "import math\n",
    "import sys\n",
    "import iris\n",
    "import os\n",
    "import glob\n",
    "import numpy as np\n",
    "import pandas as pd\n",
    "import matplotlib.pyplot as plt\n",
    "import datetime, time\n",
    "import netCDF4\n",
    "from matplotlib import ticker, cm\n",
    "import matplotlib.colors as mcols\n",
    "from matplotlib.colors import from_levels_and_colors\n",
    "import cartopy.crs as ccrs\n",
    "import cartopy\n",
    "import cartopy.feature as cfeature"
   ]
  },
  {
   "cell_type": "code",
   "execution_count": 13,
   "metadata": {},
   "outputs": [],
   "source": [
    "import ephem"
   ]
  },
  {
   "cell_type": "code",
   "execution_count": 3,
   "metadata": {},
   "outputs": [],
   "source": [
    "# For a given timestep, need to determine SO2 uptake field:\n",
    "# 24 x 385 x 1024 grid boxes\n",
    "# 1)Take mass of SO2, convert to molecules. \n",
    "# 2)Estimate number of ash particles using mass, density, PSD midpoint (see effective diameter formula). \n",
    "# NEED TO USE INDIVIDUAL ASH PARTICLE SIZE CUBES FOR THIS!\n",
    "# 3)Apply initial uptake coefficient (5.0–10.8 × 10**-2)\n",
    "# 4)Calculate total ash surface area from particle number estimate. (see ASH/INP example)\n",
    "# 5)Apply saturation coverage (1.2-1.8 x 10**13 [CHECK] molecules cm-2), remembering that this is a function of BET SA so must convert. This is upper limit – so value for the grid box is either that calculated from previous steps or saturation value, whichever is lower.\n",
    "# 6)Start to think about integrating other parameters: create fields using temp, RH metadata. \n",
    "\n",
    "#define steps 1-5 in single function"
   ]
  },
  {
   "cell_type": "code",
   "execution_count": 4,
   "metadata": {},
   "outputs": [],
   "source": [
    "#LOOK AT 75PPB THRESHOLD\n",
    "#PLAY AROUND WITH OVERLAP GRAPH TO FIND LOWER THRESHOLD"
   ]
  },
  {
   "cell_type": "code",
   "execution_count": 5,
   "metadata": {},
   "outputs": [
    {
     "name": "stdout",
     "output_type": "stream",
     "text": [
      "/shared/netscratch/jd876\n"
     ]
    }
   ],
   "source": [
    "cd /shared/netscratch/jd876"
   ]
  },
  {
   "cell_type": "code",
   "execution_count": 6,
   "metadata": {},
   "outputs": [],
   "source": [
    "volume_array = np.load('/home/rh721/Volumearray.npy') #m^3"
   ]
  },
  {
   "cell_type": "code",
   "execution_count": 7,
   "metadata": {},
   "outputs": [],
   "source": [
    "nc_files_SO2=sorted(glob.glob('/scratch/rh721/netscratch/SO2cont*.nc'))\n",
    "nc_files_ash = sorted(glob.glob('/scratch/rh721/netscratch/ASH*.nc'))\n",
    "nc_files_SO2mixingratio = sorted(glob.glob('/scratch/rh721/netscratch/SO2mixingratio*.nc'))\n",
    "list_timesteps=sorted(glob.glob('/shared/netscratch/jd876/Fields_grid82_C1_T*.txt'))\n",
    "nc_files_RH = sorted(glob.glob('/scratch/rh721/netscratch/RH*'))        \n",
    "nc_files_cloud = sorted(glob.glob('/scratch/rh721/netscratch/CLOUD*'))       "
   ]
  },
  {
   "cell_type": "code",
   "execution_count": 8,
   "metadata": {},
   "outputs": [],
   "source": [
    "p = 30 #22nd April 00:00\n",
    "SO2cube = iris.load_cube(nc_files_SO2[p])\n",
    "SO2data = SO2cube.data\n",
    "ashcube = iris.load_cube(nc_files_ash[p])\n",
    "ashdata = ashcube.data"
   ]
  },
  {
   "cell_type": "code",
   "execution_count": 9,
   "metadata": {},
   "outputs": [],
   "source": [
    "alt = SO2cube.coord('altitude').points\n",
    "lat = SO2cube.coord('latitude').points\n",
    "lon = SO2cube.coord('longitude').points"
   ]
  },
  {
   "cell_type": "code",
   "execution_count": null,
   "metadata": {},
   "outputs": [],
   "source": []
  },
  {
   "cell_type": "code",
   "execution_count": 10,
   "metadata": {},
   "outputs": [],
   "source": [
    "#differences plots\n",
    "#calculate percentage uptake of total SO2\n",
    "#plot 3 panel graph comparing ash, SO2, uptake cross sections\n",
    "#produce animations\n"
   ]
  },
  {
   "cell_type": "code",
   "execution_count": 11,
   "metadata": {},
   "outputs": [],
   "source": [
    "def ash_molecule_calc(VAdiam,VAmass): \n",
    "    VAparticlevolume = (4/3) * math.pi * (VAdiam/2)**3 # ash particle volume assuming sphere\n",
    "    VAparticleSA = (4) * math.pi * (VAdiam/2)**2 * 2 # ash particle SA - multiplied by 2 assuming ash sphericity is actually 0.5\n",
    "    VAvolume = VAmass/2300000 # ash volume in m^3 (mass/density in g/m^3) \n",
    "    VAparticlenumber = VAvolume/VAparticlevolume # ash particle number\n",
    "    return VAparticlenumber\n"
   ]
  },
  {
   "cell_type": "code",
   "execution_count": 12,
   "metadata": {},
   "outputs": [
    {
     "ename": "NameError",
     "evalue": "name 'ephem' is not defined",
     "output_type": "error",
     "traceback": [
      "\u001b[0;31m---------------------------------------------------------------------------\u001b[0m",
      "\u001b[0;31mNameError\u001b[0m                                 Traceback (most recent call last)",
      "\u001b[0;32m<ipython-input-12-58626abd5bf8>\u001b[0m in \u001b[0;36m<module>\u001b[0;34m\u001b[0m\n\u001b[0;32m----> 1\u001b[0;31m \u001b[0mhome\u001b[0m \u001b[0;34m=\u001b[0m \u001b[0mephem\u001b[0m\u001b[0;34m.\u001b[0m\u001b[0mObserver\u001b[0m\u001b[0;34m(\u001b[0m\u001b[0;34m)\u001b[0m\u001b[0;34m\u001b[0m\u001b[0;34m\u001b[0m\u001b[0m\n\u001b[0m",
      "\u001b[0;31mNameError\u001b[0m: name 'ephem' is not defined"
     ]
    }
   ],
   "source": []
  },
  {
   "cell_type": "code",
   "execution_count": 20,
   "metadata": {},
   "outputs": [
    {
     "name": "stdout",
     "output_type": "stream",
     "text": [
      "timestep: 20, fractionaluptake: 0.00012470870211509828\n",
      "timestep: 21, fractionaluptake: 0.00012461308489706869\n",
      "timestep: 22, fractionaluptake: 0.00012742670055498553\n",
      "timestep: 23, fractionaluptake: 0.00012766854591650888\n",
      "timestep: 24, fractionaluptake: 0.0001242137013655635\n",
      "timestep: 25, fractionaluptake: 0.0001212948822902794\n",
      "timestep: 26, fractionaluptake: 0.000119241890782569\n",
      "timestep: 27, fractionaluptake: 0.00011731851369060522\n",
      "timestep: 28, fractionaluptake: 0.00011132935527106551\n",
      "timestep: 29, fractionaluptake: 0.0001049548287216087\n",
      "timestep: 30, fractionaluptake: 9.872036671112866e-05\n",
      "timestep: 31, fractionaluptake: 9.42211094618629e-05\n",
      "timestep: 32, fractionaluptake: 8.743531062534116e-05\n",
      "timestep: 33, fractionaluptake: 8.116008751026913e-05\n",
      "timestep: 34, fractionaluptake: 7.552064147328845e-05\n"
     ]
    },
    {
     "name": "stderr",
     "output_type": "stream",
     "text": [
      "/home/rh721/.conda/envs/iris/lib/python3.6/site-packages/ipykernel_launcher.py:127: RuntimeWarning: invalid value encountered in multiply\n"
     ]
    },
    {
     "name": "stdout",
     "output_type": "stream",
     "text": [
      "timestep: 35, fractionaluptake: 7.224398028744248e-05\n"
     ]
    },
    {
     "name": "stderr",
     "output_type": "stream",
     "text": [
      "/home/rh721/.conda/envs/iris/lib/python3.6/site-packages/ipykernel_launcher.py:127: RuntimeWarning: invalid value encountered in multiply\n"
     ]
    },
    {
     "name": "stdout",
     "output_type": "stream",
     "text": [
      "timestep: 36, fractionaluptake: 6.83090806408659e-05\n"
     ]
    },
    {
     "name": "stderr",
     "output_type": "stream",
     "text": [
      "/home/rh721/.conda/envs/iris/lib/python3.6/site-packages/ipykernel_launcher.py:127: RuntimeWarning: invalid value encountered in multiply\n"
     ]
    },
    {
     "name": "stdout",
     "output_type": "stream",
     "text": [
      "timestep: 37, fractionaluptake: 6.453038658665179e-05\n",
      "timestep: 38, fractionaluptake: 6.313377051332985e-05\n",
      "timestep: 39, fractionaluptake: 6.135182063174842e-05\n"
     ]
    },
    {
     "name": "stderr",
     "output_type": "stream",
     "text": [
      "/home/rh721/.conda/envs/iris/lib/python3.6/site-packages/ipykernel_launcher.py:127: RuntimeWarning: invalid value encountered in multiply\n"
     ]
    }
   ],
   "source": [
    "home = ephem.Observer()\n",
    "fractionaluptake = np.zeros(len(list_timesteps))\n",
    "for p in range(20, 40):\n",
    "    #read in data\n",
    "    field_file = nc_files_SO2[p]\n",
    "    \n",
    "    SO2cube = iris.load_cube(nc_files_SO2[p])\n",
    "    SO2data = SO2cube.data\n",
    "    SO2data[SO2data == np.inf] = 0\n",
    "    SO2data[SO2data == np.nan] = 0\n",
    "    ashcube = iris.load_cube(nc_files_ash[p])\n",
    "    ashdata = ashcube.data\n",
    "    ashdata[ashdata == np.inf] = 0\n",
    "    ashdata[ashdata == np.nan] = 0\n",
    "    RHcube = iris.load_cube(nc_files_RH[p])\n",
    "    RHdata = RHcube.data\n",
    "    RHdata[RHdata == np.inf] = 0\n",
    "    RHdata[RHdata == np.nan] = 0\n",
    "    cloudcube = iris.load_cube(nc_files_cloud[p])\n",
    "    clouddata = cloudcube.data\n",
    "    clouddata[clouddata == np.inf] = 0\n",
    "    clouddata[clouddata == np.nan] = 0\n",
    "    \n",
    "    \n",
    "    Ti_Si_ratio = 0.5/25.5\n",
    "    \n",
    "    \n",
    "    SO2massfield = volume_array * SO2data/10**6 #in g\n",
    "    ASHmassfield = volume_array * ashdata/10**6 #in g\n",
    "    \n",
    "    #calculate no. molecules of SO2 in each gridbox\n",
    "    SO2molarmass = 64.066 #g/mol\n",
    "    Na = 6.0221409 * 10**23 #molecules/mol\n",
    "    SO2field = np.divide(SO2massfield, SO2molarmass) *  Na\n",
    "    SO2moleculefield = SO2field.data\n",
    "    \n",
    "    cubes = iris.load(list_timesteps[p])\n",
    "    \n",
    "    \n",
    "    # assuming 5% distal ash fraction\n",
    "    cubeVA0 = cubes[0] * 0.05 #0.10 - 2.00 um\n",
    "    cubeVA1 = cubes[1] * 0.05 #2.00 - 3.90 um\n",
    "    cubeVA2 = cubes[2] * 0.05 #3.90 - 7.80 um\n",
    "    cubeVA3 = cubes[3] * 0.05 #7.80 - 15.60 um\n",
    "    cubeVA4 = cubes[4] * 0.05 #15.60 - 31.20 um \n",
    "    cubeVA5 = cubes[5] * 0.05 #31.20 - 62.50 um\n",
    "    cubeVA6 = cubes[6] * 0.05 #62.50 - 125.00 um\n",
    "    \n",
    "    VAdiams = ((6.34 * 10**-7),(2.85 * 10**-6),(5.63 * 10**-6),(1.13 * 10**-5),(2.25 * 10**-5),(4.51 * 10**-5),(9.02 * 10**-5))\n",
    "    VAconcs = (cubeVA0.data, cubeVA1.data, cubeVA2.data, cubeVA3.data, cubeVA4.data, cubeVA5.data, cubeVA6.data)\n",
    "    #masses in grams\n",
    "    VAmasses = (cubeVA0.data * volume_array, cubeVA1.data * volume_array, cubeVA2.data * volume_array, cubeVA3.data * volume_array, \n",
    "                cubeVA4.data * volume_array, cubeVA5.data * volume_array, cubeVA6.data * volume_array)\n",
    "    \n",
    "    ASH0 = ash_molecule_calc(VAdiams[0],VAmasses[0]) \n",
    "    ASH1 = ash_molecule_calc(VAdiams[1],VAmasses[1]) \n",
    "    ASH2 = ash_molecule_calc(VAdiams[2],VAmasses[2]) \n",
    "    ASH3 = ash_molecule_calc(VAdiams[3],VAmasses[3]) \n",
    "    ASH4 = ash_molecule_calc(VAdiams[4],VAmasses[4]) \n",
    "    ASH5 = ash_molecule_calc(VAdiams[5],VAmasses[5]) \n",
    "    ASH6 = ash_molecule_calc(VAdiams[6],VAmasses[6]) \n",
    "    ASHmoleculefield = ASH0 + ASH1 + ASH2 + ASH3 + ASH4 + ASH5 + ASH6 #total number of ash particles \n",
    "    \n",
    "    #calculating ash particle geometric SA for each bin, sphericity 0.5\n",
    "    ASH0particleSA = (4) * math.pi * (VAdiams[0]/2)**2\n",
    "    ASH1particleSA = (4) * math.pi * (VAdiams[1]/2)**2\n",
    "    ASH2particleSA = (4) * math.pi * (VAdiams[2]/2)**2\n",
    "    ASH3particleSA = (4) * math.pi * (VAdiams[3]/2)**2\n",
    "    ASH4particleSA = (4) * math.pi * (VAdiams[4]/2)**2\n",
    "    ASH5particleSA = (4) * math.pi * (VAdiams[5]/2)**2\n",
    "    ASH6particleSA = (4) * math.pi * (VAdiams[6]/2)**2\n",
    "    \n",
    "    #this gives array of total geometric ash SA in cm^2 in each grid box, (convert to BET by *~100 [C. M. Wygel et al.])\n",
    "    ASHtotalSAfield =  10000 * ((ASH0particleSA * ASH0) + (ASH1particleSA * ASH1) + (ASH2particleSA * ASH2) + \n",
    "                                    (ASH3particleSA * ASH3) + (ASH4particleSA * ASH4) + (ASH5particleSA * ASH5) + (ASH6particleSA * ASH6)) \n",
    "   \n",
    "    initialuptake = 0.05\n",
    "    saturationuptake = 1.2*10**13 #molecules/cm^2\n",
    "    uptakefield = np.zeros((24, 385, 1025))\n",
    "    ashSAcolumn = np.nansum(ASHtotalSAfield[:,:,:],axis=0)\n",
    "\n",
    "    for i in range(len(volume_array[0,:,0])):    # loop over latitude\n",
    "        for j in range(len(volume_array[0,0,:])): # loop over longitude\n",
    "            if ashSAcolumn[i,j] > 0:\n",
    "                for k in range(len(volume_array[:,0,0])): # loop over altitude\n",
    "\n",
    "                    #day/night analysis\n",
    "                    home.lon = str(lon[j])\n",
    "                    home.lat = str(lat[i])\n",
    "                    home.date = (int(field_file[-15:-11]), int(field_file[-11:-9]), int(field_file[-9:-7]), int(field_file[-7:-5]))\n",
    "                    home.elevation = alt[k]\n",
    "                    sun = ephem.Sun()\n",
    "                    sun.compute(home)\n",
    "                    \n",
    "                    #J value scales linearly with cloud cover fraction\n",
    "                    if sun.alt > -18: #day time if sun above 18 degrees below horizon\n",
    "                        J = 4.5*0.001 * (1 - clouddata[k,i,j])\n",
    "                    else:\n",
    "                        J = 0 #night time\n",
    "\n",
    "\n",
    "                    if(ASHtotalSAfield[k,i,j] !=0):\n",
    "                        #Apply initial uptake coefficient and calculate total uptake per grid box\n",
    "                        uptake = initialuptake * np.divide(SO2moleculefield[k,i,j], ASHtotalSAfield[k,i,j]) #uptake in molecules/cm^2\n",
    "\n",
    "                        photoenhancedsaturationuptake = saturationuptake *  6.1 * (1 + 7.76 * 0.01 * RHdata[k,i,j]) * (1 + 480.5 * J) * Ti_Si_ratio            \n",
    "                        if(uptake < photoenhancedsaturationuptake):\n",
    "                                uptakefield[k,i,j] = uptake\n",
    "                        else:\n",
    "                                uptakefield[k,i,j] = photoenhancedsaturationuptake\n",
    "                                             \n",
    "                            \n",
    "                                \n",
    "    uptakefield[uptakefield == np.inf] = 0\n",
    "    uptakefield[uptakefield == np.nan] = 0\n",
    "    np.save('/scratch/rh721/netscratch/uptakefield' + str(p), uptakefield)\n",
    "                    \n",
    "\n",
    "    #uptake field in molecules/cm^2, i.e. molecules of SO2 taken up per cm^2 BET surface area of ash\n",
    " \n",
    "    #calculate fractional uptake of SO2 using uptake field\n",
    "    absoluteSO2uptake = np.nansum(uptakefield * ASHtotalSAfield) \n",
    "    SO2totalmolecules = np.nansum(SO2moleculefield)\n",
    "     \n",
    "    fractionaluptake[p] = np.divide(absoluteSO2uptake, SO2totalmolecules) \n",
    "    \n",
    "    \n",
    "    print('timestep: ' + str(p) + ', fractionaluptake: '+ str(fractionaluptake[p]))"
   ]
  },
  {
   "cell_type": "code",
   "execution_count": 21,
   "metadata": {},
   "outputs": [],
   "source": [
    "np.save('/home/rh721/fractionaluptake_0-39', fractionaluptake)"
   ]
  },
  {
   "cell_type": "code",
   "execution_count": null,
   "metadata": {},
   "outputs": [],
   "source": []
  },
  {
   "cell_type": "code",
   "execution_count": 163,
   "metadata": {},
   "outputs": [
    {
     "data": {
      "text/plain": [
       "<ephem.Observer date='2010/4/14 00:00:00' epoch='2000/1/1 12:00:00' lon='-179:17:48.8' lat='0:28:07.5' elevation=1250.0m horizon=0:00:00.0 temp=15.0C pressure=1010.0mBar>"
      ]
     },
     "execution_count": 163,
     "metadata": {},
     "output_type": "execute_result"
    }
   ],
   "source": [
    "home.date = (2020, month, day hour)"
   ]
  },
  {
   "cell_type": "code",
   "execution_count": 33,
   "metadata": {},
   "outputs": [],
   "source": [
    "time_array = np.load('time_array.npy')"
   ]
  },
  {
   "cell_type": "code",
   "execution_count": 55,
   "metadata": {
    "scrolled": true
   },
   "outputs": [
    {
     "data": {
      "image/png": "[encoded data removed]",
      "text/plain": [
       "<Figure size 576x360 with 1 Axes>"
      ]
     },
     "metadata": {
      "needs_background": "light"
     },
     "output_type": "display_data"
    }
   ],
   "source": [
    "fig,ax = plt.subplots(figsize=(8,5))\n",
    "ax.plot(time_array[0:199], fractionaluptake *100, '-x', markersize = '2', color = 'k', lw = 1) # x-axis data, y-axis data, symbol, colour, linewidth)\n",
    "plt.setp(ax.get_xticklabels(), rotation=0, ha=\"right\", rotation_mode=\"anchor\") # set x-axis limit\n",
    "ax.set_ylim(0,0.05) # set y-axis limit\n",
    "ax.grid() # add grid\n",
    "ax.set_ylabel('Percentage') # add y-axis label\n",
    "ax.set_xlabel('Time (MM-DD HH)') # add x-axis label\n",
    "ax.set_title('Percentage SO2 uptake') # add title \n",
    "plt.show()\n",
    " "
   ]
  },
  {
   "cell_type": "code",
   "execution_count": 47,
   "metadata": {},
   "outputs": [
    {
     "name": "stdout",
     "output_type": "stream",
     "text": [
      "0\n",
      "1\n",
      "2\n",
      "3\n",
      "4\n",
      "5\n",
      "6\n",
      "7\n",
      "8\n",
      "9\n",
      "10\n",
      "11\n",
      "12\n",
      "13\n",
      "14\n",
      "15\n",
      "16\n",
      "17\n",
      "18\n",
      "19\n",
      "20\n",
      "21\n",
      "22\n",
      "23\n",
      "24\n",
      "25\n",
      "26\n",
      "27\n",
      "28\n",
      "29\n",
      "30\n",
      "31\n",
      "32\n",
      "33\n",
      "34\n",
      "35\n",
      "36\n",
      "37\n",
      "38\n",
      "39\n",
      "40\n",
      "41\n",
      "42\n",
      "43\n",
      "44\n",
      "45\n",
      "46\n",
      "47\n",
      "48\n",
      "49\n",
      "50\n",
      "51\n",
      "52\n",
      "53\n",
      "54\n",
      "55\n",
      "56\n",
      "57\n",
      "58\n",
      "59\n",
      "60\n",
      "61\n",
      "62\n",
      "63\n",
      "64\n",
      "65\n",
      "66\n",
      "67\n",
      "68\n",
      "69\n",
      "70\n",
      "71\n",
      "72\n",
      "73\n",
      "74\n",
      "75\n",
      "76\n",
      "77\n",
      "78\n",
      "79\n",
      "80\n",
      "81\n",
      "82\n",
      "83\n",
      "84\n",
      "85\n",
      "86\n",
      "87\n",
      "88\n",
      "89\n",
      "90\n",
      "91\n",
      "92\n",
      "93\n",
      "94\n",
      "95\n",
      "96\n",
      "97\n",
      "98\n",
      "99\n",
      "100\n",
      "101\n",
      "102\n",
      "103\n",
      "104\n",
      "105\n",
      "106\n",
      "107\n",
      "108\n",
      "109\n",
      "110\n",
      "111\n",
      "112\n",
      "113\n",
      "114\n",
      "115\n",
      "116\n",
      "117\n",
      "118\n",
      "119\n",
      "120\n",
      "121\n",
      "122\n",
      "123\n",
      "124\n",
      "125\n",
      "126\n",
      "127\n",
      "128\n",
      "129\n",
      "130\n",
      "131\n",
      "132\n",
      "133\n",
      "134\n",
      "135\n",
      "136\n",
      "137\n",
      "138\n",
      "139\n",
      "140\n",
      "141\n",
      "142\n",
      "143\n",
      "144\n",
      "145\n",
      "146\n",
      "147\n",
      "148\n",
      "149\n",
      "150\n",
      "151\n",
      "152\n",
      "153\n",
      "154\n",
      "155\n",
      "156\n",
      "157\n",
      "158\n",
      "159\n",
      "160\n",
      "161\n",
      "162\n",
      "163\n",
      "164\n",
      "165\n",
      "166\n",
      "167\n",
      "168\n",
      "169\n",
      "170\n",
      "171\n",
      "172\n",
      "173\n",
      "174\n",
      "175\n",
      "176\n",
      "177\n",
      "178\n",
      "179\n",
      "180\n",
      "181\n",
      "182\n",
      "183\n",
      "184\n",
      "185\n",
      "186\n",
      "187\n",
      "188\n",
      "189\n",
      "190\n",
      "191\n",
      "192\n",
      "193\n",
      "194\n",
      "195\n",
      "196\n",
      "197\n",
      "198\n",
      "199\n",
      "200\n",
      "201\n"
     ]
    }
   ],
   "source": [
    "time_array = np.zeros(len(nc_files_SO2), dtype = 'datetime64[s]')\n",
    "for i in range(len(nc_files_SO2)):\n",
    "    SO2_file = nc_files_SO2[i] # store the path to the ASH file\n",
    "    SO2cube = iris.load_cube(SO2_file) # load the ASH file into a cube\n",
    "    SO2data = SO2cube.data \n",
    "    # get the time from each ASH .nc file and save it in the time_array:\n",
    "    nc_SO2_file = netCDF4.Dataset(SO2_file)\n",
    "    time = nc_SO2_file['time'] # extract the time from the ASH .nc file\n",
    "    time_data = time[:].data\n",
    "    time_string = pd.to_datetime(time_data/24, unit='D', origin=pd.Timestamp('1970-01-01')) # convert time to the proper format\n",
    "    time_array[i] = time_string # fill the time_array at the given index with the time\n",
    "    print(i)"
   ]
  },
  {
   "cell_type": "code",
   "execution_count": 51,
   "metadata": {},
   "outputs": [
    {
     "data": {
      "text/plain": [
       "array(['2010-04-14T12:00:00', '2010-04-14T18:00:00',\n",
       "       '2010-04-15T00:00:00', '2010-04-15T06:00:00',\n",
       "       '2010-04-15T12:00:00', '2010-04-15T18:00:00',\n",
       "       '2010-04-16T00:00:00', '2010-04-16T06:00:00',\n",
       "       '2010-04-16T12:00:00', '2010-04-16T18:00:00',\n",
       "       '2010-04-17T00:00:00', '2010-04-17T06:00:00',\n",
       "       '2010-04-17T12:00:00', '2010-04-17T18:00:00',\n",
       "       '2010-04-18T00:00:00', '2010-04-18T06:00:00',\n",
       "       '2010-04-18T12:00:00', '2010-04-18T18:00:00',\n",
       "       '2010-04-19T00:00:00', '2010-04-19T06:00:00',\n",
       "       '2010-04-19T12:00:00', '2010-04-19T18:00:00',\n",
       "       '2010-04-20T00:00:00', '2010-04-20T06:00:00',\n",
       "       '2010-04-20T12:00:00', '2010-04-20T18:00:00',\n",
       "       '2010-04-21T00:00:00', '2010-04-21T06:00:00',\n",
       "       '2010-04-21T12:00:00', '2010-04-21T18:00:00',\n",
       "       '2010-04-22T00:00:00', '2010-04-22T06:00:00',\n",
       "       '2010-04-22T12:00:00', '2010-04-22T18:00:00',\n",
       "       '2010-04-23T00:00:00', '2010-04-23T06:00:00',\n",
       "       '2010-04-23T12:00:00', '2010-04-23T18:00:00',\n",
       "       '2010-04-24T00:00:00', '2010-04-24T06:00:00',\n",
       "       '2010-04-24T12:00:00', '2010-04-24T18:00:00',\n",
       "       '2010-04-25T00:00:00', '2010-04-25T06:00:00',\n",
       "       '2010-04-25T12:00:00', '2010-04-25T18:00:00',\n",
       "       '2010-04-26T00:00:00', '2010-04-26T06:00:00',\n",
       "       '2010-04-26T12:00:00', '2010-04-26T18:00:00',\n",
       "       '2010-04-27T00:00:00', '2010-04-27T06:00:00',\n",
       "       '2010-04-27T12:00:00', '2010-04-27T18:00:00',\n",
       "       '2010-04-28T00:00:00', '2010-04-28T06:00:00',\n",
       "       '2010-04-28T12:00:00', '2010-04-28T18:00:00',\n",
       "       '2010-04-29T00:00:00', '2010-04-29T06:00:00',\n",
       "       '2010-04-29T12:00:00', '2010-04-29T18:00:00',\n",
       "       '2010-04-30T00:00:00', '2010-04-30T06:00:00',\n",
       "       '2010-04-30T12:00:00', '2010-04-30T18:00:00',\n",
       "       '2010-05-01T00:00:00', '2010-05-01T06:00:00',\n",
       "       '2010-05-01T12:00:00', '2010-05-01T18:00:00',\n",
       "       '2010-05-02T00:00:00', '2010-05-02T06:00:00',\n",
       "       '2010-05-02T12:00:00', '2010-05-02T18:00:00',\n",
       "       '2010-05-03T00:00:00', '2010-05-03T06:00:00',\n",
       "       '2010-05-03T12:00:00', '2010-05-03T18:00:00',\n",
       "       '2010-05-04T00:00:00', '2010-05-04T06:00:00',\n",
       "       '2010-05-04T12:00:00', '2010-05-04T18:00:00',\n",
       "       '2010-05-05T00:00:00', '2010-05-05T06:00:00',\n",
       "       '2010-05-05T12:00:00', '2010-05-05T18:00:00',\n",
       "       '2010-05-06T00:00:00', '2010-05-06T06:00:00',\n",
       "       '2010-05-06T12:00:00', '2010-05-06T18:00:00',\n",
       "       '2010-05-07T00:00:00', '2010-05-07T06:00:00',\n",
       "       '2010-05-07T12:00:00', '2010-05-07T18:00:00',\n",
       "       '2010-05-08T00:00:00', '2010-05-08T06:00:00',\n",
       "       '2010-05-08T12:00:00', '2010-05-08T18:00:00',\n",
       "       '2010-05-09T00:00:00', '2010-05-09T06:00:00',\n",
       "       '2010-05-09T12:00:00', '2010-05-09T18:00:00',\n",
       "       '2010-05-10T00:00:00', '2010-05-10T06:00:00',\n",
       "       '2010-05-10T12:00:00', '2010-05-10T18:00:00',\n",
       "       '2010-05-11T00:00:00', '2010-05-11T06:00:00',\n",
       "       '2010-05-11T12:00:00', '2010-05-11T18:00:00',\n",
       "       '2010-05-12T00:00:00', '2010-05-12T06:00:00',\n",
       "       '2010-05-12T12:00:00', '2010-05-12T18:00:00',\n",
       "       '2010-05-13T00:00:00', '2010-05-13T06:00:00',\n",
       "       '2010-05-13T12:00:00', '2010-05-13T18:00:00',\n",
       "       '2010-05-14T00:00:00', '2010-05-14T06:00:00',\n",
       "       '2010-05-14T12:00:00', '2010-05-14T18:00:00',\n",
       "       '2010-05-15T00:00:00', '2010-05-15T06:00:00',\n",
       "       '2010-05-15T12:00:00', '2010-05-15T18:00:00',\n",
       "       '2010-05-16T00:00:00', '2010-05-16T06:00:00',\n",
       "       '2010-05-16T12:00:00', '2010-05-16T18:00:00',\n",
       "       '2010-05-17T00:00:00', '2010-05-17T06:00:00',\n",
       "       '2010-05-17T12:00:00', '2010-05-17T18:00:00',\n",
       "       '2010-05-18T00:00:00', '2010-05-18T06:00:00',\n",
       "       '2010-05-18T12:00:00', '2010-05-18T18:00:00',\n",
       "       '2010-05-19T00:00:00', '2010-05-19T06:00:00',\n",
       "       '2010-05-19T12:00:00', '2010-05-19T18:00:00',\n",
       "       '2010-05-20T00:00:00', '2010-05-20T06:00:00',\n",
       "       '2010-05-20T12:00:00', '2010-05-20T18:00:00',\n",
       "       '2010-05-21T00:00:00', '2010-05-21T06:00:00',\n",
       "       '2010-05-21T12:00:00', '2010-05-21T18:00:00',\n",
       "       '2010-05-22T00:00:00', '2010-05-22T06:00:00',\n",
       "       '2010-05-22T12:00:00', '2010-05-22T18:00:00',\n",
       "       '2010-05-23T00:00:00', '2010-05-23T06:00:00',\n",
       "       '2010-05-23T12:00:00', '2010-05-23T18:00:00',\n",
       "       '2010-05-24T00:00:00', '2010-05-24T06:00:00',\n",
       "       '2010-05-24T12:00:00', '2010-05-24T18:00:00',\n",
       "       '2010-05-25T00:00:00', '2010-05-25T06:00:00',\n",
       "       '2010-05-25T12:00:00', '2010-05-25T18:00:00',\n",
       "       '2010-05-26T00:00:00', '2010-05-26T06:00:00',\n",
       "       '2010-05-26T12:00:00', '2010-05-26T18:00:00',\n",
       "       '2010-05-27T00:00:00', '2010-05-27T06:00:00',\n",
       "       '2010-05-27T12:00:00', '2010-05-27T18:00:00',\n",
       "       '2010-05-28T00:00:00', '2010-05-28T06:00:00',\n",
       "       '2010-05-28T12:00:00', '2010-05-28T18:00:00',\n",
       "       '2010-05-29T00:00:00', '2010-05-29T06:00:00',\n",
       "       '2010-05-29T12:00:00', '2010-05-29T18:00:00',\n",
       "       '2010-05-30T00:00:00', '2010-05-30T06:00:00',\n",
       "       '2010-05-30T12:00:00', '2010-05-30T18:00:00',\n",
       "       '2010-05-31T00:00:00', '2010-05-31T06:00:00',\n",
       "       '2010-05-31T12:00:00', '2010-05-31T18:00:00',\n",
       "       '2010-06-01T00:00:00', '2010-06-01T06:00:00',\n",
       "       '2010-06-01T12:00:00', '2010-06-01T18:00:00',\n",
       "       '2010-06-02T00:00:00', '2010-06-02T06:00:00',\n",
       "       '2010-06-02T12:00:00', '2010-06-02T18:00:00',\n",
       "       '2010-06-03T00:00:00', '2010-06-03T06:00:00',\n",
       "       '2010-06-03T12:00:00', '2010-06-03T18:00:00'],\n",
       "      dtype='datetime64[s]')"
      ]
     },
     "execution_count": 51,
     "metadata": {},
     "output_type": "execute_result"
    }
   ],
   "source": [
    "time_array"
   ]
  },
  {
   "cell_type": "code",
   "execution_count": null,
   "metadata": {},
   "outputs": [],
   "source": []
  }
 ],
 "metadata": {
  "kernelspec": {
   "display_name": "Python (iris)",
   "language": "python",
   "name": "iris"
  },
  "language_info": {
   "codemirror_mode": {
    "name": "ipython",
    "version": 3
   },
   "file_extension": ".py",
   "mimetype": "text/x-python",
   "name": "python",
   "nbconvert_exporter": "python",
   "pygments_lexer": "ipython3",
   "version": "3.6.8"
  }
 },
 "nbformat": 4,
 "nbformat_minor": 2
}
